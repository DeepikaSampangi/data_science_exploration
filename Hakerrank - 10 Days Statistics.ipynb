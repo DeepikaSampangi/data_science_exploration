{
 "cells": [
  {
   "cell_type": "code",
   "execution_count": 6,
   "metadata": {},
   "outputs": [
    {
     "name": "stdout",
     "output_type": "stream",
     "text": [
      "4\n",
      "1 2 3 4\n"
     ]
    }
   ],
   "source": [
    "n = int(input())\n",
    "n_list = list(map(int, input().split()))"
   ]
  },
  {
   "cell_type": "code",
   "execution_count": 7,
   "metadata": {},
   "outputs": [
    {
     "data": {
      "text/plain": [
       "[1, 2, 3, 4]"
      ]
     },
     "execution_count": 7,
     "metadata": {},
     "output_type": "execute_result"
    }
   ],
   "source": [
    "n_list"
   ]
  },
  {
   "cell_type": "code",
   "execution_count": 17,
   "metadata": {},
   "outputs": [
    {
     "data": {
      "text/plain": [
       "1"
      ]
     },
     "execution_count": 17,
     "metadata": {},
     "output_type": "execute_result"
    }
   ],
   "source": [
    "import numpy as np\n",
    "from scipy import stats\n",
    "\n",
    "int(stats.mode(numbers)[0])"
   ]
  },
  {
   "cell_type": "code",
   "execution_count": 13,
   "metadata": {},
   "outputs": [
    {
     "name": "stdout",
     "output_type": "stream",
     "text": [
      "5\n",
      "1 4 2 1 5\n",
      "2.6\n",
      "2.0\n",
      "1\n"
     ]
    }
   ],
   "source": [
    "import numpy as np\n",
    "from scipy import stats\n",
    "\n",
    "size = int(input())\n",
    "numbers = list(map(int, input().split()))\n",
    "print(np.mean(numbers))\n",
    "print(np.median(numbers))\n",
    "print(int(stats.mode(numbers)[0]))"
   ]
  },
  {
   "cell_type": "code",
   "execution_count": 18,
   "metadata": {},
   "outputs": [
    {
     "data": {
      "text/plain": [
       "10"
      ]
     },
     "execution_count": 18,
     "metadata": {},
     "output_type": "execute_result"
    }
   ],
   "source": [
    "sum(n_list)"
   ]
  },
  {
   "cell_type": "code",
   "execution_count": 25,
   "metadata": {},
   "outputs": [
    {
     "data": {
      "text/plain": [
       "30"
      ]
     },
     "execution_count": 25,
     "metadata": {},
     "output_type": "execute_result"
    }
   ],
   "source": [
    "a_list = [1,2,3,4]\n",
    "b_list = [1,2,3,4]\n",
    "\n",
    "sum([a*b for a,b in zip(a_list,b_list)])"
   ]
  },
  {
   "cell_type": "code",
   "execution_count": null,
   "metadata": {},
   "outputs": [],
   "source": []
  },
  {
   "cell_type": "code",
   "execution_count": 2,
   "metadata": {},
   "outputs": [
    {
     "data": {
      "text/plain": [
       "3"
      ]
     },
     "execution_count": 2,
     "metadata": {},
     "output_type": "execute_result"
    }
   ],
   "source": [
    "int(7/2)"
   ]
  },
  {
   "cell_type": "code",
   "execution_count": 14,
   "metadata": {},
   "outputs": [
    {
     "data": {
      "text/plain": [
       "1.4142135623730951"
      ]
     },
     "execution_count": 14,
     "metadata": {},
     "output_type": "execute_result"
    }
   ],
   "source": [
    "import numpy\n",
    "\n",
    "x = [1,3,4,5,2]\n",
    "\n",
    "x.sort()\n",
    "\n",
    "numpy.std(x)"
   ]
  },
  {
   "cell_type": "code",
   "execution_count": 8,
   "metadata": {},
   "outputs": [
    {
     "data": {
      "text/plain": [
       "3"
      ]
     },
     "execution_count": 8,
     "metadata": {},
     "output_type": "execute_result"
    }
   ],
   "source": [
    "x[int(len(x)/2)]"
   ]
  },
  {
   "cell_type": "markdown",
   "metadata": {},
   "source": [
    "### Quantile Code"
   ]
  },
  {
   "cell_type": "code",
   "execution_count": 9,
   "metadata": {},
   "outputs": [
    {
     "name": "stdout",
     "output_type": "stream",
     "text": [
      "10\n",
      "3 7 8 5 12 14 21 15 18 14\n",
      "7\n",
      "14\n",
      "15\n"
     ]
    }
   ],
   "source": [
    "from statistics import median\n",
    "\n",
    "n = int(input())\n",
    "n_list = list(map(int, input().split()))\n",
    "n_list.sort()\n",
    "mid = int(n/2)\n",
    "q1 = n_list[:mid]\n",
    "\n",
    "if n%2 == 0:\n",
    "    q3 = n_list[mid:]\n",
    "else:\n",
    "    q3 = n_list[mid+1:]\n",
    "\n",
    "print(int(median(q1)))\n",
    "print(n_list[mid])\n",
    "print(int(median(q3)))"
   ]
  },
  {
   "cell_type": "markdown",
   "metadata": {},
   "source": [
    "### Std Code"
   ]
  },
  {
   "cell_type": "code",
   "execution_count": null,
   "metadata": {},
   "outputs": [],
   "source": [
    "n = int(input())\n",
    "n_list = list(map(int, input().split()))\n",
    "\n",
    "mue = sum(n_list)/n\n",
    "var = sum((x - mue)**2 for x in n_list)/n\n",
    "\n",
    "print(\"%.1f\"%(var**0.5))"
   ]
  },
  {
   "cell_type": "code",
   "execution_count": 19,
   "metadata": {},
   "outputs": [
    {
     "name": "stdout",
     "output_type": "stream",
     "text": [
      "9.0\n"
     ]
    }
   ],
   "source": [
    "from statistics import median\n",
    "\n",
    "n = 6\n",
    "\n",
    "X = [6, 12, 8, 10, 20, 16]\n",
    "F = [5, 4, 3, 2, 1, 5]\n",
    "\n",
    "total_len = sum(F)\n",
    "total_list = list()\n",
    "\n",
    "for i in range(n):\n",
    "    total_list+=[X[i]]* F[i]\n",
    "\n",
    "mid = int(total_len/2)\n",
    "q1 = total_list[:mid]\n",
    "\n",
    "if total_len % 2 == 0:\n",
    "    q3 = total_list[mid:]\n",
    "else:\n",
    "    q3 = total_list[mid+1:]\n",
    "    \n",
    "print(\"%.1f\"%(median(q3)-median(q1)))"
   ]
  },
  {
   "cell_type": "code",
   "execution_count": 2,
   "metadata": {},
   "outputs": [
    {
     "name": "stdout",
     "output_type": "stream",
     "text": [
      "1.2 2\n"
     ]
    }
   ],
   "source": [
    "boys, girls = map(float,input().split())"
   ]
  },
  {
   "cell_type": "code",
   "execution_count": 3,
   "metadata": {},
   "outputs": [
    {
     "data": {
      "text/plain": [
       "1.2"
      ]
     },
     "execution_count": 3,
     "metadata": {},
     "output_type": "execute_result"
    }
   ],
   "source": [
    "boys"
   ]
  },
  {
   "cell_type": "code",
   "execution_count": 4,
   "metadata": {},
   "outputs": [
    {
     "data": {
      "text/plain": [
       "float"
      ]
     },
     "execution_count": 4,
     "metadata": {},
     "output_type": "execute_result"
    }
   ],
   "source": [
    "type(boys)"
   ]
  },
  {
   "cell_type": "markdown",
   "metadata": {},
   "source": [
    "## Binomial Distribution"
   ]
  },
  {
   "cell_type": "code",
   "execution_count": 5,
   "metadata": {},
   "outputs": [
    {
     "name": "stdout",
     "output_type": "stream",
     "text": [
      "1.09 1\n",
      "0.696\n"
     ]
    }
   ],
   "source": [
    "from math import factorial\n",
    "\n",
    "\n",
    "\n",
    "def combi(n,x):\n",
    "    return factorial(n)/(factorial(x)*factorial(n-x))\n",
    "    \n",
    "def binom(n,p,x):\n",
    "    return combi(n,x) * p**x * (1-p)**(n-x)\n",
    "\n",
    "boys, girls = map(float, input().split())\n",
    "odds = boys/girls\n",
    "\n",
    "print(\"%.3f\"% (sum([binom(6, odds/(1+odds), i) for i in range(3,7)])))"
   ]
  },
  {
   "cell_type": "markdown",
   "metadata": {},
   "source": [
    "## Geometric Distribution"
   ]
  },
  {
   "cell_type": "code",
   "execution_count": null,
   "metadata": {},
   "outputs": [],
   "source": [
    "num, denom = map(int, input().split())\n",
    "inspec = int(input())\n",
    "p = num/denom\n",
    "q = 1-p\n",
    "print(round((q**(inspec-1)*p),3))\n"
   ]
  },
  {
   "cell_type": "code",
   "execution_count": null,
   "metadata": {},
   "outputs": [],
   "source": [
    "def geo_distribution(n,p):\n",
    "    return ((1-p)**(n-1))*p\n",
    "    \n",
    "num, denom = map(int, input().split())\n",
    "inspec = int(input())\n",
    "p = num/denom\n",
    "\n",
    "print(round(sum([geo_distribution(i,p) for i in range(1,inspec+1)]),3))"
   ]
  },
  {
   "cell_type": "markdown",
   "metadata": {},
   "source": [
    "## Poisson Distribution"
   ]
  },
  {
   "cell_type": "code",
   "execution_count": null,
   "metadata": {},
   "outputs": [],
   "source": [
    "from math import factorial\n",
    "\n",
    "mue = float(input())\n",
    "y = int(input())\n",
    "\n",
    "prob = ((mue ** y) * (2.71828) ** (-mue))/factorial(y)\n",
    "print(round(prob,3))"
   ]
  },
  {
   "cell_type": "markdown",
   "metadata": {},
   "source": [
    "## When cost function is a suqred expression"
   ]
  },
  {
   "cell_type": "code",
   "execution_count": null,
   "metadata": {},
   "outputs": [],
   "source": [
    "mue_A, mue_B = map(float, input().split())\n",
    "\n",
    "c_a = 160+40*(mue_A + mue_A**2)\n",
    "c_b = 128+40*(mue_B + mue_B**2)\n",
    "\n",
    "print(round(c_a,3))\n",
    "print(round(c_b,3))"
   ]
  },
  {
   "cell_type": "markdown",
   "metadata": {},
   "source": [
    "## Normal Distribution"
   ]
  },
  {
   "cell_type": "code",
   "execution_count": null,
   "metadata": {},
   "outputs": [],
   "source": [
    "from math import erf\n",
    "\n",
    "def normal_distri(x,mue,sd):\n",
    "    return 0.5 + 0.5*erf((x-mue)/(sd* (2**0.5)))\n",
    "\n",
    "mue, sd = map(float, input().split())\n",
    "x = float(input())\n",
    "range_1, range_2 = map(int, input().split())\n",
    "\n",
    "\n",
    "print(round(normal_distri(x, mue,sd),3))\n",
    "print(round(normal_distri(range_2, mue,sd)-normal_distri(range_1, mue,sd),3))"
   ]
  }
 ],
 "metadata": {
  "kernelspec": {
   "display_name": "Python 3",
   "language": "python",
   "name": "python3"
  },
  "language_info": {
   "codemirror_mode": {
    "name": "ipython",
    "version": 3
   },
   "file_extension": ".py",
   "mimetype": "text/x-python",
   "name": "python",
   "nbconvert_exporter": "python",
   "pygments_lexer": "ipython3",
   "version": "3.7.6"
  }
 },
 "nbformat": 4,
 "nbformat_minor": 4
}
